{
 "cells": [
  {
   "cell_type": "markdown",
   "metadata": {},
   "source": [
    "## Accompanying code to 'Uncertainty Risk Parity' https://ssrn.com/abstract=3406321\n",
    "### Example of uncertain risk parity and uncertain risk contributions"
   ]
  },
  {
   "cell_type": "code",
   "execution_count": 1,
   "metadata": {},
   "outputs": [],
   "source": [
    "import numpy as np\n",
    "import lib_risk_parity as rp"
   ]
  },
  {
   "cell_type": "markdown",
   "metadata": {},
   "source": [
    "# 0 - Get estimates - C, covC, (to check out of sample) Ctest"
   ]
  },
  {
   "cell_type": "code",
   "execution_count": 2,
   "metadata": {},
   "outputs": [],
   "source": [
    "import pandas as pd\n",
    "\n",
    "fname = 'etf_weekly_rets.csv'\n",
    "retsdf = pd.read_csv(fname, header=0, index_col=0) # (n x T) cols are old -> new\n",
    "ids = retsdf.index\n",
    "rets = np.matrix(retsdf)\n",
    "#del retsdf\n",
    "\n",
    "def est_cov_of_cov_disjoint_periods(r, numsets=10):\n",
    "    # function, in ad-hoc fashion, estimates covariance of covariance\n",
    "    # as covariance of covariance estimates from disjoint periods\n",
    "    # r = (n x T) returns\n",
    "    # numsets = (int) number of sets to break r into\n",
    "    # returns (n x n x n x n) covariance of covariance entries\n",
    "    n, T = r.shape\n",
    "    l = int(np.floor(T/numsets))  # num periods in each set\n",
    "    M = np.zeros((n**2, numsets)) # holds each sets cov as a vector\n",
    "    for i in range(numsets):\n",
    "        M[:,i] = np.cov(r[:,i*l:(i+1)*l]).reshape([-1])  # store covariance over interval as a vector\n",
    "    return np.cov(M).reshape((n,n,n,n))  # take cov of cov estimates, reshape from (n^2 x n^2) to (n x n x n x n)\n",
    "\n",
    "def get_estimates(r, train_fraction=0.75, numsets_for_covcov=10):\n",
    "    # function estimates train cov, train cov of cov, and test cov of n series\n",
    "    # r = (n x T) n series of length T\n",
    "    # train_fraction = fraction of data used for training\n",
    "    # numsets_for_covcov = number of sets to break training set into to estimate cov of cov\n",
    "    # returns    C = (n x n) estimated cov over training portion\n",
    "    #         covC = (n x n x n x n) estimated cov of cov over training portion\n",
    "    #        Ctest = (n x n) estimated cov over test portion\n",
    "    n, T = r.shape\n",
    "    # split into train and test\n",
    "    T0 = int(np.ceil(0.75*T))\n",
    "    Ctest = np.cov(r[:,T0:]) # (n x n) cov est on test set\n",
    "    C = np.cov(r[:,:T0]) # (n x n) cov est on train set\n",
    "    covC = est_cov_of_cov_disjoint_periods(r=r[:,:T0], numsets=numsets_for_covcov) # (n x n x n x n) cov of cov est on train set\n",
    "    return C, covC, Ctest\n",
    "\n",
    "C, covC, Ctest = get_estimates(r=rets, train_fraction=0.75, numsets_for_covcov=12)\n",
    "\n",
    "def cov2corr(C):\n",
    "    # converts covariance matrix to correlation matrix\n",
    "    # C = (N x N) covariance matrix\n",
    "    # returns (N x N) correlation matrix\n",
    "    _invsd = 1./np.diag(C)**0.5\n",
    "    return (C * _invsd).T * _invsd\n",
    "\n",
    "def print_sd_cor(C, ids, d=2):\n",
    "    n= C.shape[0]\n",
    "    M = np.zeros((n,n+1))\n",
    "    M[:,0] = np.diag(C) ** 0.5\n",
    "    M[:,1:] = cov2corr(C)\n",
    "    cols = ['sd']\n",
    "    cols.extend(ids)\n",
    "    df = pd.DataFrame(np.around(M,d), index=ids, columns=cols)\n",
    "    return df"
   ]
  },
  {
   "cell_type": "code",
   "execution_count": 3,
   "metadata": {},
   "outputs": [
    {
     "name": "stdout",
     "output_type": "stream",
     "text": [
      "training set\n"
     ]
    },
    {
     "data": {
      "text/html": [
       "<div>\n",
       "<style scoped>\n",
       "    .dataframe tbody tr th:only-of-type {\n",
       "        vertical-align: middle;\n",
       "    }\n",
       "\n",
       "    .dataframe tbody tr th {\n",
       "        vertical-align: top;\n",
       "    }\n",
       "\n",
       "    .dataframe thead th {\n",
       "        text-align: right;\n",
       "    }\n",
       "</style>\n",
       "<table border=\"1\" class=\"dataframe\">\n",
       "  <thead>\n",
       "    <tr style=\"text-align: right;\">\n",
       "      <th></th>\n",
       "      <th>sd</th>\n",
       "      <th>AGG</th>\n",
       "      <th>EEM</th>\n",
       "      <th>EFA</th>\n",
       "      <th>SPY</th>\n",
       "    </tr>\n",
       "  </thead>\n",
       "  <tbody>\n",
       "    <tr>\n",
       "      <th>AGG</th>\n",
       "      <td>0.41</td>\n",
       "      <td>1.00</td>\n",
       "      <td>-0.19</td>\n",
       "      <td>-0.19</td>\n",
       "      <td>-0.19</td>\n",
       "    </tr>\n",
       "    <tr>\n",
       "      <th>EEM</th>\n",
       "      <td>2.52</td>\n",
       "      <td>-0.19</td>\n",
       "      <td>1.00</td>\n",
       "      <td>0.89</td>\n",
       "      <td>0.78</td>\n",
       "    </tr>\n",
       "    <tr>\n",
       "      <th>EFA</th>\n",
       "      <td>1.73</td>\n",
       "      <td>-0.19</td>\n",
       "      <td>0.89</td>\n",
       "      <td>1.00</td>\n",
       "      <td>0.87</td>\n",
       "    </tr>\n",
       "    <tr>\n",
       "      <th>SPY</th>\n",
       "      <td>1.83</td>\n",
       "      <td>-0.19</td>\n",
       "      <td>0.78</td>\n",
       "      <td>0.87</td>\n",
       "      <td>1.00</td>\n",
       "    </tr>\n",
       "  </tbody>\n",
       "</table>\n",
       "</div>"
      ],
      "text/plain": [
       "       sd   AGG   EEM   EFA   SPY\n",
       "AGG  0.41  1.00 -0.19 -0.19 -0.19\n",
       "EEM  2.52 -0.19  1.00  0.89  0.78\n",
       "EFA  1.73 -0.19  0.89  1.00  0.87\n",
       "SPY  1.83 -0.19  0.78  0.87  1.00"
      ]
     },
     "execution_count": 3,
     "metadata": {},
     "output_type": "execute_result"
    }
   ],
   "source": [
    "_df = print_sd_cor(C, ids)\n",
    "#print(_df.to_latex())\n",
    "print('training set')\n",
    "_df"
   ]
  },
  {
   "cell_type": "code",
   "execution_count": 4,
   "metadata": {},
   "outputs": [
    {
     "name": "stdout",
     "output_type": "stream",
     "text": [
      "test set\n"
     ]
    },
    {
     "data": {
      "text/html": [
       "<div>\n",
       "<style scoped>\n",
       "    .dataframe tbody tr th:only-of-type {\n",
       "        vertical-align: middle;\n",
       "    }\n",
       "\n",
       "    .dataframe tbody tr th {\n",
       "        vertical-align: top;\n",
       "    }\n",
       "\n",
       "    .dataframe thead th {\n",
       "        text-align: right;\n",
       "    }\n",
       "</style>\n",
       "<table border=\"1\" class=\"dataframe\">\n",
       "  <thead>\n",
       "    <tr style=\"text-align: right;\">\n",
       "      <th></th>\n",
       "      <th>sd</th>\n",
       "      <th>AGG</th>\n",
       "      <th>EEM</th>\n",
       "      <th>EFA</th>\n",
       "      <th>SPY</th>\n",
       "    </tr>\n",
       "  </thead>\n",
       "  <tbody>\n",
       "    <tr>\n",
       "      <th>AGG</th>\n",
       "      <td>1.77</td>\n",
       "      <td>1.00</td>\n",
       "      <td>0.69</td>\n",
       "      <td>0.74</td>\n",
       "      <td>0.53</td>\n",
       "    </tr>\n",
       "    <tr>\n",
       "      <th>EEM</th>\n",
       "      <td>4.88</td>\n",
       "      <td>0.69</td>\n",
       "      <td>1.00</td>\n",
       "      <td>0.93</td>\n",
       "      <td>0.85</td>\n",
       "    </tr>\n",
       "    <tr>\n",
       "      <th>EFA</th>\n",
       "      <td>4.58</td>\n",
       "      <td>0.74</td>\n",
       "      <td>0.93</td>\n",
       "      <td>1.00</td>\n",
       "      <td>0.89</td>\n",
       "    </tr>\n",
       "    <tr>\n",
       "      <th>SPY</th>\n",
       "      <td>4.24</td>\n",
       "      <td>0.53</td>\n",
       "      <td>0.85</td>\n",
       "      <td>0.89</td>\n",
       "      <td>1.00</td>\n",
       "    </tr>\n",
       "  </tbody>\n",
       "</table>\n",
       "</div>"
      ],
      "text/plain": [
       "       sd   AGG   EEM   EFA   SPY\n",
       "AGG  1.77  1.00  0.69  0.74  0.53\n",
       "EEM  4.88  0.69  1.00  0.93  0.85\n",
       "EFA  4.58  0.74  0.93  1.00  0.89\n",
       "SPY  4.24  0.53  0.85  0.89  1.00"
      ]
     },
     "execution_count": 4,
     "metadata": {},
     "output_type": "execute_result"
    }
   ],
   "source": [
    "_df = print_sd_cor(Ctest, ids)\n",
    "#print(_df.to_latex())\n",
    "print('test set')\n",
    "_df"
   ]
  },
  {
   "cell_type": "markdown",
   "metadata": {},
   "source": [
    "# 1 - Construct portfolios"
   ]
  },
  {
   "cell_type": "code",
   "execution_count": 5,
   "metadata": {},
   "outputs": [],
   "source": [
    "n = C.shape[0]\n",
    "target = np.full(n, 1./n)  # target is equal risk contributions"
   ]
  },
  {
   "cell_type": "code",
   "execution_count": 6,
   "metadata": {},
   "outputs": [],
   "source": [
    "w0 = rp.std_risk_parity(target=target, C=C)\n",
    "w = rp.uncertain_risk_parity(target=target, C=C, covC=covC)"
   ]
  },
  {
   "cell_type": "markdown",
   "metadata": {},
   "source": [
    "# 2 - Results"
   ]
  },
  {
   "cell_type": "code",
   "execution_count": 7,
   "metadata": {},
   "outputs": [],
   "source": [
    "def print_results(ids, w, Ctest, C, covC=None, d=2):    \n",
    "    M = np.zeros((4,n))\n",
    "    M[0,:] = w\n",
    "    M[1,:] = w * C.dot(w)     # variance contributions on train set\n",
    "    M[3,:] = w * Ctest.dot(w) # variance contributions on test set\n",
    "    if covC is not None:\n",
    "        covv = np.einsum('i,k,ijkl',w,w,covC)  # cov of variance contributions on train set\n",
    "        M[2,:] = np.diag(covv) ** 0.5  # standard deviation of variance contributiosn\n",
    "    df = pd.DataFrame(np.around(M,d), columns=ids)\n",
    "    df.index=('weight', 'v train', '+/-','v test')\n",
    "    return df"
   ]
  },
  {
   "cell_type": "code",
   "execution_count": 8,
   "metadata": {},
   "outputs": [
    {
     "name": "stdout",
     "output_type": "stream",
     "text": [
      "std risk parity\n"
     ]
    },
    {
     "data": {
      "text/html": [
       "<div>\n",
       "<style scoped>\n",
       "    .dataframe tbody tr th:only-of-type {\n",
       "        vertical-align: middle;\n",
       "    }\n",
       "\n",
       "    .dataframe tbody tr th {\n",
       "        vertical-align: top;\n",
       "    }\n",
       "\n",
       "    .dataframe thead th {\n",
       "        text-align: right;\n",
       "    }\n",
       "</style>\n",
       "<table border=\"1\" class=\"dataframe\">\n",
       "  <thead>\n",
       "    <tr style=\"text-align: right;\">\n",
       "      <th></th>\n",
       "      <th>AGG</th>\n",
       "      <th>EEM</th>\n",
       "      <th>EFA</th>\n",
       "      <th>SPY</th>\n",
       "    </tr>\n",
       "  </thead>\n",
       "  <tbody>\n",
       "    <tr>\n",
       "      <th>weight</th>\n",
       "      <td>0.75</td>\n",
       "      <td>0.07</td>\n",
       "      <td>0.09</td>\n",
       "      <td>0.09</td>\n",
       "    </tr>\n",
       "    <tr>\n",
       "      <th>v train</th>\n",
       "      <td>0.06</td>\n",
       "      <td>0.06</td>\n",
       "      <td>0.06</td>\n",
       "      <td>0.06</td>\n",
       "    </tr>\n",
       "    <tr>\n",
       "      <th>+/-</th>\n",
       "      <td>0.00</td>\n",
       "      <td>0.00</td>\n",
       "      <td>0.00</td>\n",
       "      <td>0.00</td>\n",
       "    </tr>\n",
       "    <tr>\n",
       "      <th>v test</th>\n",
       "      <td>2.74</td>\n",
       "      <td>0.64</td>\n",
       "      <td>0.88</td>\n",
       "      <td>0.68</td>\n",
       "    </tr>\n",
       "  </tbody>\n",
       "</table>\n",
       "</div>"
      ],
      "text/plain": [
       "          AGG   EEM   EFA   SPY\n",
       "weight   0.75  0.07  0.09  0.09\n",
       "v train  0.06  0.06  0.06  0.06\n",
       "+/-      0.00  0.00  0.00  0.00\n",
       "v test   2.74  0.64  0.88  0.68"
      ]
     },
     "execution_count": 8,
     "metadata": {},
     "output_type": "execute_result"
    }
   ],
   "source": [
    "print('std risk parity')\n",
    "_df = print_results(ids, w0, Ctest, C)\n",
    "#print(_df.to_latex())\n",
    "_df"
   ]
  },
  {
   "cell_type": "code",
   "execution_count": 9,
   "metadata": {},
   "outputs": [
    {
     "name": "stdout",
     "output_type": "stream",
     "text": [
      "uncertain risk parity\n"
     ]
    },
    {
     "data": {
      "text/html": [
       "<div>\n",
       "<style scoped>\n",
       "    .dataframe tbody tr th:only-of-type {\n",
       "        vertical-align: middle;\n",
       "    }\n",
       "\n",
       "    .dataframe tbody tr th {\n",
       "        vertical-align: top;\n",
       "    }\n",
       "\n",
       "    .dataframe thead th {\n",
       "        text-align: right;\n",
       "    }\n",
       "</style>\n",
       "<table border=\"1\" class=\"dataframe\">\n",
       "  <thead>\n",
       "    <tr style=\"text-align: right;\">\n",
       "      <th></th>\n",
       "      <th>AGG</th>\n",
       "      <th>EEM</th>\n",
       "      <th>EFA</th>\n",
       "      <th>SPY</th>\n",
       "    </tr>\n",
       "  </thead>\n",
       "  <tbody>\n",
       "    <tr>\n",
       "      <th>weight</th>\n",
       "      <td>0.79</td>\n",
       "      <td>0.06</td>\n",
       "      <td>0.08</td>\n",
       "      <td>0.07</td>\n",
       "    </tr>\n",
       "    <tr>\n",
       "      <th>v train</th>\n",
       "      <td>0.08</td>\n",
       "      <td>0.05</td>\n",
       "      <td>0.05</td>\n",
       "      <td>0.04</td>\n",
       "    </tr>\n",
       "    <tr>\n",
       "      <th>+/-</th>\n",
       "      <td>0.08</td>\n",
       "      <td>0.67</td>\n",
       "      <td>0.54</td>\n",
       "      <td>0.61</td>\n",
       "    </tr>\n",
       "    <tr>\n",
       "      <th>v test</th>\n",
       "      <td>2.84</td>\n",
       "      <td>0.53</td>\n",
       "      <td>0.74</td>\n",
       "      <td>0.47</td>\n",
       "    </tr>\n",
       "  </tbody>\n",
       "</table>\n",
       "</div>"
      ],
      "text/plain": [
       "          AGG   EEM   EFA   SPY\n",
       "weight   0.79  0.06  0.08  0.07\n",
       "v train  0.08  0.05  0.05  0.04\n",
       "+/-      0.08  0.67  0.54  0.61\n",
       "v test   2.84  0.53  0.74  0.47"
      ]
     },
     "execution_count": 9,
     "metadata": {},
     "output_type": "execute_result"
    }
   ],
   "source": [
    "print('uncertain risk parity')\n",
    "_df = print_results(ids, w, Ctest, C, covC=covC)\n",
    "#print(_df.to_latex())\n",
    "_df"
   ]
  }
 ],
 "metadata": {
  "kernelspec": {
   "display_name": "Python 3",
   "language": "python",
   "name": "python3"
  },
  "language_info": {
   "codemirror_mode": {
    "name": "ipython",
    "version": 3
   },
   "file_extension": ".py",
   "mimetype": "text/x-python",
   "name": "python",
   "nbconvert_exporter": "python",
   "pygments_lexer": "ipython3",
   "version": "3.7.9"
  }
 },
 "nbformat": 4,
 "nbformat_minor": 2
}
